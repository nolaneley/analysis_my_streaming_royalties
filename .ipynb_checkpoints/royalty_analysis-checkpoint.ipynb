{
 "cells": [
  {
   "cell_type": "markdown",
   "id": "26f11c5c",
   "metadata": {},
   "source": [
    "# Music Streaming Royalty Analysis\n",
    "### Introduction\n"
   ]
  },
  {
   "cell_type": "code",
   "execution_count": 1,
   "id": "8f28bf62",
   "metadata": {},
   "outputs": [
    {
     "data": {
      "text/html": [
       "<div>\n",
       "<style scoped>\n",
       "    .dataframe tbody tr th:only-of-type {\n",
       "        vertical-align: middle;\n",
       "    }\n",
       "\n",
       "    .dataframe tbody tr th {\n",
       "        vertical-align: top;\n",
       "    }\n",
       "\n",
       "    .dataframe thead th {\n",
       "        text-align: right;\n",
       "    }\n",
       "</style>\n",
       "<table border=\"1\" class=\"dataframe\">\n",
       "  <thead>\n",
       "    <tr style=\"text-align: right;\">\n",
       "      <th></th>\n",
       "      <th>Sales Date</th>\n",
       "      <th>Quantity</th>\n",
       "      <th>Price</th>\n",
       "      <th>Subtotal</th>\n",
       "      <th>Album Name</th>\n",
       "      <th>Track Name</th>\n",
       "      <th>Partner Name</th>\n",
       "      <th>Transaction Type</th>\n",
       "      <th>Delivery Country</th>\n",
       "    </tr>\n",
       "  </thead>\n",
       "  <tbody>\n",
       "    <tr>\n",
       "      <th>0</th>\n",
       "      <td>2017-08-15</td>\n",
       "      <td>7</td>\n",
       "      <td>0.00077</td>\n",
       "      <td>0.00541</td>\n",
       "      <td>Album_1</td>\n",
       "      <td>Track_1_1</td>\n",
       "      <td>Pandora</td>\n",
       "      <td>Stream</td>\n",
       "      <td>US</td>\n",
       "    </tr>\n",
       "    <tr>\n",
       "      <th>1</th>\n",
       "      <td>2017-08-15</td>\n",
       "      <td>1</td>\n",
       "      <td>0.00077</td>\n",
       "      <td>0.00077</td>\n",
       "      <td>Album_1</td>\n",
       "      <td>Track_1_2</td>\n",
       "      <td>Pandora</td>\n",
       "      <td>Stream</td>\n",
       "      <td>US</td>\n",
       "    </tr>\n",
       "    <tr>\n",
       "      <th>2</th>\n",
       "      <td>2017-08-15</td>\n",
       "      <td>2</td>\n",
       "      <td>0.00077</td>\n",
       "      <td>0.00155</td>\n",
       "      <td>Album_1</td>\n",
       "      <td>Track_1_3</td>\n",
       "      <td>Pandora</td>\n",
       "      <td>Stream</td>\n",
       "      <td>US</td>\n",
       "    </tr>\n",
       "    <tr>\n",
       "      <th>3</th>\n",
       "      <td>2017-08-15</td>\n",
       "      <td>40</td>\n",
       "      <td>0.00077</td>\n",
       "      <td>0.03094</td>\n",
       "      <td>Album_1</td>\n",
       "      <td>Track_1_4</td>\n",
       "      <td>Pandora</td>\n",
       "      <td>Stream</td>\n",
       "      <td>US</td>\n",
       "    </tr>\n",
       "    <tr>\n",
       "      <th>4</th>\n",
       "      <td>2017-08-15</td>\n",
       "      <td>36</td>\n",
       "      <td>0.00077</td>\n",
       "      <td>0.02785</td>\n",
       "      <td>Album_1</td>\n",
       "      <td>Track_1_5</td>\n",
       "      <td>Pandora</td>\n",
       "      <td>Stream</td>\n",
       "      <td>US</td>\n",
       "    </tr>\n",
       "  </tbody>\n",
       "</table>\n",
       "</div>"
      ],
      "text/plain": [
       "  Sales Date  Quantity    Price  Subtotal Album Name Track Name Partner Name  \\\n",
       "0 2017-08-15         7  0.00077   0.00541    Album_1  Track_1_1      Pandora   \n",
       "1 2017-08-15         1  0.00077   0.00077    Album_1  Track_1_2      Pandora   \n",
       "2 2017-08-15         2  0.00077   0.00155    Album_1  Track_1_3      Pandora   \n",
       "3 2017-08-15        40  0.00077   0.03094    Album_1  Track_1_4      Pandora   \n",
       "4 2017-08-15        36  0.00077   0.02785    Album_1  Track_1_5      Pandora   \n",
       "\n",
       "  Transaction Type Delivery Country  \n",
       "0           Stream               US  \n",
       "1           Stream               US  \n",
       "2           Stream               US  \n",
       "3           Stream               US  \n",
       "4           Stream               US  "
      ]
     },
     "execution_count": 1,
     "metadata": {},
     "output_type": "execute_result"
    }
   ],
   "source": [
    "import pandas as pd\n",
    "import numpy as np\n",
    "import matplotlib.pyplot as plt\n",
    "import seaborn as sns\n",
    "\n",
    "df = pd.read_csv('royalties_cleaned.csv')\n",
    "df['Sales Date'] = df['Sales Date'].astype('datetime64[ns]')\n",
    "df.round(5).head()"
   ]
  },
  {
   "cell_type": "markdown",
   "id": "36e54879",
   "metadata": {},
   "source": [
    "### Top streaming services\n",
    "In order to compare the payments of different streaming services it is important to know which are the top services. Below is a pie chart showing the proportion of streams per service.\n",
    "\n",
    "TO DO: clean up this code below"
   ]
  },
  {
   "cell_type": "code",
   "execution_count": 2,
   "id": "ee54c66d",
   "metadata": {},
   "outputs": [
    {
     "data": {
      "image/png": "[encoded data removed]",
      "text/plain": [
       "<Figure size 640x480 with 1 Axes>"
      ]
     },
     "metadata": {},
     "output_type": "display_data"
    }
   ],
   "source": [
    "# Define plotting colors\n",
    "blue = '#5F7DA5'\n",
    "orange = '#E3A580'\n",
    "gold = '#DCC973'\n",
    "purple = '#BA8EB2'\n",
    "green = '#D4E5BF'\n",
    "colors = [blue, orange, gold, purple, green]\n",
    "\n",
    "\n",
    "# Get total streams from each service\n",
    "partners = df['Partner Name'].unique()\n",
    "plays = []\n",
    "for partner in partners:\n",
    "    plays.append(sum(df[df['Partner Name'] == partner].Quantity))    \n",
    "plays.sort(reverse=True)\n",
    "\n",
    "# Get top four services\n",
    "thresh = plays[3]\n",
    "plays_dict = {}\n",
    "for partner in partners:\n",
    "    cur_plays = sum(df[df['Partner Name'] == partner].Quantity)\n",
    "    if cur_plays >= thresh:\n",
    "        plays_dict[partner] = cur_plays\n",
    "\n",
    "# Create \"other\" category\n",
    "rest = sum(plays[4:])\n",
    "plays_dict['Other'] = rest\n",
    "\n",
    "# Create pie chart\n",
    "plt.pie(plays_dict.values(), labels=plays_dict.keys(), autopct='%1.1f%%',\n",
    "       pctdistance=0.9, labeldistance=1.25, colors=colors)\n",
    "plt.show()\n",
    "\n",
    "# TO DO: ASSIGN COLORS TO SERVICES FOR CONSISTENCY"
   ]
  },
  {
   "cell_type": "markdown",
   "id": "31bb41db",
   "metadata": {},
   "source": [
    "As expected, the most streams are coming from Spotify, by far. Apple, Youtube, and Google are a distant 2nd, 3rd, and 4th, respectively.\n",
    "\n",
    "### Histograms of per-stream payment\n",
    "Let's look at the distribution of per-stream royalty payments of our top two streaming services.\n",
    "\n",
    "TO DO: try a subplot?"
   ]
  },
  {
   "cell_type": "code",
   "execution_count": 6,
   "id": "98d1903c",
   "metadata": {},
   "outputs": [
    {
     "data": {
      "image/png": "[encoded data removed]",
      "text/plain": [
       "<Figure size 607.111x500 with 1 Axes>"
      ]
     },
     "metadata": {},
     "output_type": "display_data"
    }
   ],
   "source": [
    "# Histograms of top services\n",
    "apple_spotify = df[(df['Partner Name']=='Apple') | (df['Partner Name']=='Spotify')]\n",
    "sns.displot(data=apple_spotify, x='Price', hue='Partner Name', color=colors[:2])\n",
    "plt.xlabel('Per-Stream Payment ($)')\n",
    "plt.show()\n",
    "\n",
    "# for i, partner in enumerate(top_partners):\n",
    "#     sns.displot(df[df['Partner Name']==partner].Price, kde=True, color=top_colors[i])\n",
    "#     plt.title(partner + ' Per Stream Payment')\n",
    "#     plt.xlabel('Per Stream Payment ($)')\n",
    "#     plt.show()"
   ]
  },
  {
   "cell_type": "markdown",
   "id": "f5999fb3",
   "metadata": {},
   "source": [
    "Some takeaways from these histograms:\n",
    "- The distributions are not normal, so any investigation into the difference should use a non-parametric test\n",
    "- Apple appears to pay more per-stream than spotify\n",
    "\n",
    "Let's look at the data in a few other ways.\n",
    "\n",
    "### Violin plots and box plots of per-stream payments\n",
    "\n",
    "TO DO: adjust colors and order of things"
   ]
  },
  {
   "cell_type": "code",
   "execution_count": null,
   "id": "14f6d851",
   "metadata": {},
   "outputs": [],
   "source": [
    "# Violin plots of top services\n",
    "sns.violinplot(data=df[df['Partner Name'].isin(top_partners)],\n",
    "               x='Price', y='Partner Name')\n",
    "plt.title('Per Stream Payments')\n",
    "plt.xlabel('Per Stream Payment ($)')\n",
    "plt.ylabel('Streaming Service')\n",
    "plt.show()"
   ]
  },
  {
   "cell_type": "code",
   "execution_count": null,
   "id": "24577a49",
   "metadata": {},
   "outputs": [],
   "source": [
    "# Box plots of top services\n",
    "sns.boxplot(data=df[df['Partner Name'].isin(top_partners)],\n",
    "               x='Price', y='Partner Name')\n",
    "plt.title('Per Stream Payments')\n",
    "plt.xlabel('Per Stream Payment ($)')\n",
    "plt.ylabel('Streaming Service')\n",
    "plt.show()"
   ]
  },
  {
   "cell_type": "markdown",
   "id": "3cb57dcb",
   "metadata": {},
   "source": [
    "This shows a little more clearly the difference in the per-stream payouts of the different streaming services. It looks like spotify and youtube are the worst while Apple and Google are a little better. Let's look at their median payment-per-stream amounts below."
   ]
  },
  {
   "cell_type": "code",
   "execution_count": null,
   "id": "ffbc3811",
   "metadata": {},
   "outputs": [],
   "source": [
    "print(\"Median Apple Payout: \", round(np.median(apple.Price), 5))\n",
    "print(\"Median Spotify Payout: \", round(np.median(spotify.Price), 5))\n",
    "# TO DO: ADD OTHER STREAMING SERVICES"
   ]
  },
  {
   "cell_type": "markdown",
   "id": "08a540d2",
   "metadata": {},
   "source": [
    "But are these differences significant?\n",
    "\n",
    "### Test significance of royalty payment difference"
   ]
  },
  {
   "cell_type": "code",
   "execution_count": null,
   "id": "d0d05aa2",
   "metadata": {},
   "outputs": [],
   "source": [
    "# Test significance\n",
    "import scipy.stats as stats\n",
    "_, p = stats.mannwhitneyu(apple.Price.values, spotify.Price.values, alternative='two-sided')\n",
    "\n",
    "print(p)"
   ]
  },
  {
   "cell_type": "markdown",
   "id": "56fe77d5",
   "metadata": {},
   "source": [
    "### Per-stream payment over time\n",
    "Since there seems to be a lot of variability in the per-stream payment, it might be interesting to see how this metric has varied over time for each service."
   ]
  },
  {
   "cell_type": "code",
   "execution_count": null,
   "id": "97a1736d",
   "metadata": {},
   "outputs": [],
   "source": [
    "# Resample as monthly then replot the time-series data from above\n",
    "for partner in top_partners:\n",
    "    cur_df = df[df['Partner Name']==partner]\n",
    "    grouped_data = cur_df.groupby(pd.Grouper(freq='M'))\n",
    "    plt.figure(figsize=(12, 6))\n",
    "    plt.plot(grouped_data.Price.median(), label=partner)\n",
    "\n",
    "plt.title('Per Stream Payment Over Time')\n",
    "plt.xlabel('Date')\n",
    "plt.ylabel('Per Stream Payment ($)')"
   ]
  },
  {
   "cell_type": "markdown",
   "id": "243d9172",
   "metadata": {},
   "source": [
    "### Conclusion\n",
    "Services x and y win while services a and b lose. \n",
    "Spotify has deals with major labels blah blah blah\n",
    "Youtube is primarily ad-supported.\n",
    "Clearly the more artist-friendly streaming services are :blank.\n",
    "But, just because these services pay more doesn't necessarily mean they pay fairly.\n",
    "\n",
    "TO DO: compare to album sales using billboard metric."
   ]
  },
  {
   "cell_type": "markdown",
   "id": "a47da574",
   "metadata": {},
   "source": [
    "### Bonus visualization\n",
    "Choropleth map of the world, showing where our music is most popular."
   ]
  }
 ],
 "metadata": {
  "kernelspec": {
   "display_name": "Python 3 (ipykernel)",
   "language": "python",
   "name": "python3"
  },
  "language_info": {
   "codemirror_mode": {
    "name": "ipython",
    "version": 3
   },
   "file_extension": ".py",
   "mimetype": "text/x-python",
   "name": "python",
   "nbconvert_exporter": "python",
   "pygments_lexer": "ipython3",
   "version": "3.11.4"
  }
 },
 "nbformat": 4,
 "nbformat_minor": 5
}
